{
 "cells": [
  {
   "cell_type": "markdown",
   "metadata": {},
   "source": [
    "<center>\n",
    "    <img src=\"https://cf-courses-data.s3.us.cloud-object-storage.appdomain.cloud/IBMDeveloperSkillsNetwork-DS0105EN-SkillsNetwork/labs/Module2/images/SN_web_lightmode.png\" width=\"300\" alt=\"cognitiveclass.ai logo\"  />\n",
    "</center>\n"
   ]
  },
  {
   "cell_type": "markdown",
   "metadata": {},
   "source": [
    "# My Jupyter Notebook on IBM Watson Studio"
   ]
  },
  {
   "cell_type": "markdown",
   "metadata": {},
   "source": [
    "**Hoa Pham** <br>Desired Occupation: Data Scientist\n"
   ]
  },
  {
   "cell_type": "markdown",
   "metadata": {},
   "source": [
    "*I am interested in data science because I like math and I like to work with numbers*"
   ]
  },
  {
   "cell_type": "markdown",
   "metadata": {
    "tags": []
   },
   "source": [
    "### My code will solve a simple math equation"
   ]
  },
  {
   "cell_type": "code",
   "execution_count": 16,
   "metadata": {},
   "outputs": [
    {
     "name": "stdout",
     "output_type": "stream",
     "text": [
      "10.0\n"
     ]
    }
   ],
   "source": [
    "t =100\n",
    "n=10\n",
    "m=t/n\n",
    "print(m)"
   ]
  },
  {
   "cell_type": "markdown",
   "metadata": {},
   "source": [
    "---\n",
    "* A\n",
    "* B\n",
    "* C\n",
    "* D\n",
    "* E <br>\n",
    "\n",
    "|Money|Happiness|\n",
    "|-|-|\n",
    "|A lot of money|Very Happy|\n",
    "|No money|Sad|\n",
    "\n",
    "[Click Here to go to Apple's Website and purchase an Iphone](https://apple.com)<br>\n",
    "\n",
    "~~Oops. This is a mistake~~\n",
    "## Here's a Gif for you. Cheer up!\n",
    "![alt text](https://media.giphy.com/media/Gbang80Og8iE5gJWkW/giphy-downsized-large.gif)\n",
    "\n",
    "#### Below is the code/syntax highlighting\n",
    "```python\n",
    "s = \"World Peace\"\n",
    "print s\n",
    "```\n",
    ">This is the end of my project. It included all of the requirements for this particular Python Notebook. What is this final line? Oh, its a\n",
    "**_blocked quote!!!_**. Yes, I *can* **write codes** now in a single ***Markdown*** _cell!!!_\n",
    "\n",
    "# Thank you for reviewing my project. Have a good day!"
   ]
  }
 ],
 "metadata": {
  "kernelspec": {
   "display_name": "Python",
   "language": "python",
   "name": "conda-env-python-py"
  },
  "language_info": {
   "codemirror_mode": {
    "name": "ipython",
    "version": 3
   },
   "file_extension": ".py",
   "mimetype": "text/x-python",
   "name": "python",
   "nbconvert_exporter": "python",
   "pygments_lexer": "ipython3",
   "version": "3.7.12"
  }
 },
 "nbformat": 4,
 "nbformat_minor": 4
}
